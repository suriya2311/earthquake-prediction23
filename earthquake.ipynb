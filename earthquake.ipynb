{
 "cells": [
  {
   "cell_type": "code",
   "execution_count": 1,
   "metadata": {},
   "outputs": [],
   "source": [
    "%reload_ext autoreload\n",
    "%autoreload 2\n",
    "%matplotlib inline\n",
    "\n",
    "import sys\n",
    "sys.path.append('..')"
   ]
  },
  {
   "cell_type": "code",
   "execution_count": 2,
   "metadata": {},
   "outputs": [],
   "source": [
    "from src.earthquake import utils\n",
    "import config\n",
    "\n",
    "# load training set\n",
    "data = utils.read_csv(config.path_to_train)\n",
    "# create list of features\n",
    "features = [column for column in data.columns if column not in ['target', 'seg_id']]"
   ]
  },
  {
   "cell_type": "code",
   "execution_count": 3,
   "metadata": {},
   "outputs": [
    {
     "name": "stderr",
     "output_type": "stream",
     "text": [
      "  Imp | Feature\n",
      " 0.15 | mfcc_15_avg\n",
      " 0.12 | mfcc_5_avg\n",
      " 0.07 | mfcc_4_avg\n",
      " 0.05 | percentile_roll_std_10_window_100\n",
      " 0.04 | percentile_roll_std_5_window_50\n",
      " 0.03 | percentile_roll_std_25_window_500\n",
      " 0.03 | percentile_roll_std_40_window_500\n",
      " 0.02 | percentile_roll_std_20_window_1000\n",
      " 0.02 | percentile_roll_std_20_window_500\n",
      " 0.02 | percentile_roll_std_10_window_50\n",
      " 0.02 | percentile_roll_std_25_window_100\n",
      " 0.02 | percentile_roll_std_25_window_1000\n",
      " 0.01 | percentile_roll_std_20_window_10\n",
      " 0.01 | percentile_roll_std_10_window_500\n",
      " 0.01 | percentile_roll_std_40_window_1000\n"
     ]
    }
   ],
   "source": [
    "# display importance\n",
    "best_features = utils.feature_importance(data[features], data['target'], n_best=15, n_jobs=8)"
   ]
  },
  {
   "cell_type": "code",
   "execution_count": 4,
   "metadata": {},
   "outputs": [
    {
     "name": "stdout",
     "output_type": "stream",
     "text": [
      "folds: [1.982 2.333 2.379 1.266 2.362]\n",
      "total: 2.064\n"
     ]
    }
   ],
   "source": [
    "import numpy as np\n",
    "from sklearn.model_selection import cross_val_score\n",
    "from catboost import CatBoostRegressor\n",
    "\n",
    "# set output float precision \n",
    "np.set_printoptions(precision=3)\n",
    "# init model\n",
    "model = CatBoostRegressor(random_seed=0, verbose=False)\n",
    "# calculate mae on folds\n",
    "mae = cross_val_score(model, data[best_features], data['target'], \n",
    "    cv=5, scoring='neg_mean_absolute_error', n_jobs=8)\n",
    "# print the results\n",
    "print('folds: {}'.format(abs(mae)))\n",
    "print('total: {:.3f}'.format(np.mean(abs(mae))))"
   ]
  },
  {
   "cell_type": "code",
   "execution_count": 5,
   "metadata": {},
   "outputs": [
    {
     "name": "stdout",
     "output_type": "stream",
     "text": [
      "folds: [1.973 2.313 2.357 1.262 2.334]\n",
      "total: 2.048\n"
     ]
    }
   ],
   "source": [
    "ga_features = [\n",
    "    'ffti_av_change_rate_roll_mean_1000', 'percentile_roll_std_30_window_50', 'skew',\n",
    "    'percentile_roll_std_10_window_100', 'percentile_roll_std_30_window_50',\n",
    "    'percentile_roll_std_20_window_1000', 'ffti_exp_Moving_average_30000_mean',\n",
    "    'range_3000_4000', 'max_last_10000', 'mfcc_4_avg',\n",
    "    'fftr_percentile_roll_std_80_window_10000', 'percentile_roll_std_1_window_100',\n",
    "    'ffti_abs_trend', 'av_change_abs_roll_mean_50', 'mfcc_15_avg'\n",
    "]\n",
    "\n",
    "mae = cross_val_score(model, data[ga_features], data['target'], \n",
    "    cv=5, scoring='neg_mean_absolute_error', n_jobs=8)\n",
    "\n",
    "print('folds: {}'.format(abs(mae)))\n",
    "print('total: {:.3f}'.format(np.mean(abs(mae))))"
   ]
  },
  {
   "cell_type": "code",
   "execution_count": null,
   "metadata": {},
   "outputs": [],
   "source": []
  }
 ],
 "metadata": {
  "kernelspec": {
   "display_name": "Python 3",
   "language": "python",
   "name": "python3"
  },
  "language_info": {
   "codemirror_mode": {
    "name": "ipython",
    "version": 3
   },
   "file_extension": ".py",
   "mimetype": "text/x-python",
   "name": "python",
   "nbconvert_exporter": "python",
   "pygments_lexer": "ipython3",
   "version": "3.7.3"
  }
 },
 "nbformat": 4,
 "nbformat_minor": 2
}
